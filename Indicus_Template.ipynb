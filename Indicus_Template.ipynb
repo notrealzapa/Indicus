{
  "nbformat": 4,
  "nbformat_minor": 0,
  "metadata": {
    "colab": {
      "provenance": []
    },
    "kernelspec": {
      "name": "python3",
      "display_name": "Python 3"
    },
    "language_info": {
      "name": "python"
    }
  },
  "cells": [
    {
      "cell_type": "code",
      "execution_count": null,
      "metadata": {
        "id": "p5hcKB9X28u7"
      },
      "outputs": [],
      "source": [
        "import requests\n",
        "import serial\n",
        "import smbus\n",
        "import time\n",
        "import numpy as np\n",
        "from geopy.distance import geodesic\n",
        "from dronekit import connect, VehicleMode, LocationGlobalRelative"
      ]
    },
    {
      "cell_type": "code",
      "source": [
        "GOOGLE_MAPS_API_KEY = 'xxx'\n",
        "OPENWEATHERMAP_API_KEY = 'xxx'\n",
        "\n",
        "# Setting the GPS upp(Serial)\n",
        "gps = serial.Serial('/dev/ttyAMA0', baudrate=9600, timeout=1)\n",
        "\n",
        "#Barometric Sensor (I2C)\n",
        "bus = smbus.SMBus(1)\n",
        "BMP280_ADDR = 0x76"
      ],
      "metadata": {
        "id": "zIJsTnJN3gQ0"
      },
      "execution_count": null,
      "outputs": []
    },
    {
      "cell_type": "code",
      "source": [
        "#drone connection\n",
        "vehicle = connect('/dev/ttyAMA0', wait_ready=True, baud=57600)"
      ],
      "metadata": {
        "id": "8mk3tJUT3vO1"
      },
      "execution_count": null,
      "outputs": []
    },
    {
      "cell_type": "code",
      "source": [
        "def get_gps_data():\n",
        "    data = gps.readline().decode('ascii', errors='replace')\n",
        "    if data.startswith('$GPGGA'):\n",
        "        parts = data.split(',')\n",
        "        if parts[6] == '1':\n",
        "            lat = float(parts[2])\n",
        "            lon = float(parts[4])\n",
        "            return lat, lon\n",
        "    return None, None\n",
        "\n",
        "def get_pressure():\n",
        "    bus.write_byte_data(BMP280_ADDR, 0xF4, 0x2F)\n",
        "    time.sleep(0.5)\n",
        "    data = bus.read_i2c_block_data(BMP280_ADDR, 0xF7, 8)\n",
        "    pressure = (data[0] * 256 + data[1]) / 16\n",
        "    return pressure\n",
        "\n",
        "def get_elevation(lat, lon):\n",
        "    url = f\"https://maps.googleapis.com/maps/api/elevation/json?locations={lat},{lon}&key={GOOGLE_MAPS_API_KEY}\"\n",
        "    response = requests.get(url).json()\n",
        "    if response['status'] == 'OK':\n",
        "        return response['results'][0]['elevation']\n",
        "    else:\n",
        "        return None\n",
        "\n",
        "def get_weather(lat, lon):\n",
        "    url = f\"http://api.openweathermap.org/data/2.5/weather?lat={lat}&lon={lon}&appid={OPENWEATHERMAP_API_KEY}\"\n",
        "    response = requests.get(url).json()\n",
        "    if response['cod'] == 200:\n",
        "        return response['weather'][0]['description'], response['clouds']['all']\n",
        "    else:\n",
        "        return None, None\n",
        "\n",
        "def calculate_optimal_route(start, end, step=0.1):\n",
        "    route = [start]\n",
        "    current_position = start\n",
        "\n",
        "    while geodesic(current_position, end).km > step:\n",
        "        best_next_position = None\n",
        "        best_cost = float('inf')\n",
        "\n",
        "        for angle in range(0, 360, 10):\n",
        "            next_lat = current_position[0] + step * np.cos(np.radians(angle))\n",
        "            next_lon = current_position[1] + step * np.sin(np.radians(angle))\n",
        "            next_position = (next_lat, next_lon)\n",
        "\n",
        "            elevation = get_elevation(next_lat, next_lon)\n",
        "            weather, clouds = get_weather(next_lat, next_lon)\n",
        "\n",
        "            if elevation is None or weather is None:\n",
        "                continue\n",
        "\n",
        "            cost = elevation + clouds\n",
        "            if cost < best_cost:\n",
        "                best_cost = cost\n",
        "                best_next_position = next_position\n",
        "\n",
        "        if best_next_position:\n",
        "            route.append(best_next_position)\n",
        "            current_position = best_next_position\n",
        "        else:\n",
        "            break\n",
        "\n",
        "    route.append(end)\n",
        "    return route"
      ],
      "metadata": {
        "id": "0kZKgUxA3wJI"
      },
      "execution_count": null,
      "outputs": []
    },
    {
      "cell_type": "code",
      "source": [
        "start = (47.956661,11.369720) #used road near me as runway lol\n",
        "end = (47.998885,11.382994) #lands at MIS track lol\n",
        "\n",
        "optimal_route = calculate_optimal_route(start, end)\n",
        "print(optimal_route)"
      ],
      "metadata": {
        "id": "GYZzj7Nx4PQE"
      },
      "execution_count": null,
      "outputs": []
    },
    {
      "cell_type": "code",
      "source": [
        "for waypoint in optimal_route:\n",
        "    lat, lon = waypoint\n",
        "    altitude = get_elevation(lat, lon) + 10  # elevation 30m cld be adjusted, assume trees\n",
        "    point = LocationGlobalRelative(lat, lon, altitude)\n",
        "    vehicle.simple_goto(point)\n",
        "    time.sleep(600)  # distance delay between two pts assuming 600 seconds = 10 mins have maybe like 25% breathe time to add on top incase"
      ],
      "metadata": {
        "id": "5eDd1WY24TAd"
      },
      "execution_count": null,
      "outputs": []
    },
    {
      "cell_type": "code",
      "source": [
        "vehicle.mode = VehicleMode(\"LAND\")\n"
      ],
      "metadata": {
        "id": "i0LiUDUZ5nnO"
      },
      "execution_count": null,
      "outputs": []
    },
    {
      "cell_type": "code",
      "source": [
        "vehicle.close()"
      ],
      "metadata": {
        "id": "8B-1uejj6I2Z"
      },
      "execution_count": null,
      "outputs": []
    }
  ]
}